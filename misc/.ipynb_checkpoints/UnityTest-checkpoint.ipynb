{
 "cells": [
  {
   "cell_type": "code",
   "execution_count": 30,
   "id": "ef81d293-546a-4b45-b3c1-7a9df7bbbee9",
   "metadata": {},
   "outputs": [
    {
     "name": "stdout",
     "output_type": "stream",
     "text": [
      "9.137833265947169e-07\n",
      "6.771904157266825e-07\n"
     ]
    }
   ],
   "source": [
    "import numpy as np \n",
    "#Silicon\n",
    "q = 1.602e-19 # C\n",
    "mu_e = 1450 # cm/Vs\n",
    "mu_h = 450 # cm/Vs\n",
    "vSat = 0.8e07 #cm/s\n",
    "Neh = 89 # N/ um\n",
    "d = 500 #um\n",
    "Nt = Neh*d\n",
    "Vbias = 200\n",
    "d = d*1e-6 # to m\n",
    "E = Vbias/(d*1e2) # V/cm\n",
    "v_d_e = mu_e*E/np.sqrt(1 + (mu_e*E/vSat)**2)\n",
    "v_d_h = mu_h*E/(1 + (mu_h*E/vSat)**2)\n",
    "\n",
    "i_n = q*v_d_e*(1/(d*1e2))*(Nt)\n",
    "i_p = q*v_d_h*(1/(d*1e2))*(Nt)\n",
    "i_t = i_n + i_p\n",
    "print(i_t)\n",
    "#Diamond\n",
    "q = 1.602e-19\n",
    "mu_e = 1800\n",
    "mu_h = 1200\n",
    "vSat = 2.2e07\n",
    "Neh = 37\n",
    "d = 500\n",
    "Nt = Neh*d\n",
    "Vbias = 200\n",
    "\n",
    "d = d*1e-6\n",
    "E = Vbias/(d*1e2)\n",
    "v_d_e = mu_e*E/np.sqrt(1 + (mu_e*E/vSat)**2)\n",
    "v_d_h = mu_h*E/(1 + (mu_h*E/vSat)**2)\n",
    "\n",
    "i_n = q*v_d_e*(1/(d*1e2))*(Nt)\n",
    "i_p = q*v_d_h*(1/(d*1e2))*(Nt)\n",
    "i_t = i_n + i_p\n",
    "print(i_t)"
   ]
  },
  {
   "cell_type": "code",
   "execution_count": null,
   "id": "d3bbb696-f62c-4c28-b416-9b5fd8db902b",
   "metadata": {},
   "outputs": [],
   "source": []
  }
 ],
 "metadata": {
  "kernelspec": {
   "display_name": "Python 3 (ipykernel)",
   "language": "python",
   "name": "python3"
  },
  "language_info": {
   "codemirror_mode": {
    "name": "ipython",
    "version": 3
   },
   "file_extension": ".py",
   "mimetype": "text/x-python",
   "name": "python",
   "nbconvert_exporter": "python",
   "pygments_lexer": "ipython3",
   "version": "3.10.6"
  }
 },
 "nbformat": 4,
 "nbformat_minor": 5
}
